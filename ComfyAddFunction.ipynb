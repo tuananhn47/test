{
 "cells": [
  {
   "cell_type": "markdown",
   "id": "546eaa65-fb09-4aa7-a505-fe8bc20e2719",
   "metadata": {
    "jp-MarkdownHeadingCollapsed": true,
    "tags": []
   },
   "source": [
    "# Update Repos"
   ]
  },
  {
   "cell_type": "code",
   "execution_count": null,
   "id": "f927cea8-b23a-4050-bfcb-369a1ea2efc6",
   "metadata": {},
   "outputs": [],
   "source": [
    "%cd ~/ComfyUI\n",
    "!git pull"
   ]
  },
  {
   "cell_type": "code",
   "execution_count": null,
   "id": "58cbf601-8b03-4f42-b788-c9ba7d90bb45",
   "metadata": {
    "tags": []
   },
   "outputs": [],
   "source": [
    "import os\n",
    "import subprocess\n",
    "\n",
    "def git_pull_all_repos(folder_path):\n",
    "    \"\"\"\n",
    "    Git pull all repositories in the specified folder.\n",
    "\n",
    "    Parameters:\n",
    "    folder_path (str): Path to the folder containing the repositories.\n",
    "    \"\"\"\n",
    "    # Iterate over all directories in the folder\n",
    "    for repo_name in os.listdir(folder_path):\n",
    "        repo_path = os.path.join(folder_path, repo_name)\n",
    "        # Check if the directory is a git repository\n",
    "        if os.path.exists(os.path.join(repo_path, \".git\")):\n",
    "            print(f\"Pulling {repo_name}...\")\n",
    "            # Change into the repository directory\n",
    "            os.chdir(repo_path)\n",
    "            # Git pull\n",
    "            subprocess.run([\"git\", \"pull\"])\n",
    "            # Change back to the original directory\n",
    "            os.chdir(folder_path)\n",
    "        else:\n",
    "            print(f\"Skipping {repo_name}, not a git repository\")\n",
    "\n",
    "folder_path = '/home/studio-lab-user/ComfyUI/custom_nodes'\n",
    "git_pull_all_repos(folder_path)"
   ]
  },
  {
   "cell_type": "markdown",
   "id": "ca560d23-16cd-4ac1-ad29-57f5d7416ec0",
   "metadata": {
    "jp-MarkdownHeadingCollapsed": true,
    "tags": []
   },
   "source": [
    "# Download modes"
   ]
  },
  {
   "cell_type": "code",
   "execution_count": null,
   "id": "d9dc8b67-4a96-47cc-8976-48bd55e20aa9",
   "metadata": {
    "tags": []
   },
   "outputs": [],
   "source": [
    "%cd ~/ComfyUI/models/checkpoints/\n",
    "# AniVerse - Pony XL V4\n",
    "%download https://civitai.com/api/download/models/982480?type=Model&format=SafeTensor&size=full&fp=fp16"
   ]
  },
  {
   "cell_type": "code",
   "execution_count": null,
   "id": "e2846175-a2c8-4181-832c-c49ad533d798",
   "metadata": {},
   "outputs": [],
   "source": [
    "%cd ~/ComfyUI/models/loras/\n",
    "# %download"
   ]
  },
  {
   "cell_type": "markdown",
   "id": "da9171fa-8311-4e20-b110-68df2598bda4",
   "metadata": {
    "jp-MarkdownHeadingCollapsed": true,
    "tags": []
   },
   "source": [
    "# Get github links"
   ]
  },
  {
   "cell_type": "code",
   "execution_count": null,
   "id": "41fdf8dd-6e7f-4b33-a0b0-5001a05b6e14",
   "metadata": {
    "tags": []
   },
   "outputs": [],
   "source": [
    "def get_all_git_repos(folder, output_file):\n",
    "    \"\"\"\n",
    "    Get all git repository link of all sub-folder of a specific folder, and save to a txt file\n",
    "    \"\"\"\n",
    "    # open the file\n",
    "    with open(output_file, 'w') as f:\n",
    "        # loop through all sub-folders\n",
    "        for root, dirs, files in os.walk(folder):\n",
    "            # if there is a .git folder\n",
    "            if '.git' in dirs:\n",
    "                # get the repository link\n",
    "                repo = subprocess.check_output(['git', 'config', '--get', 'remote.origin.url'], cwd=root).decode('utf-8').strip()\n",
    "                # write to the file\n",
    "                f.write(repo + '\\n')\n",
    "\n",
    "folder = '/home/studio-lab-user/ComfyUI/custom_nodes'\n",
    "output_file = '/home/studio-lab-user/git_repos.txt'\n",
    "get_all_git_repos(folder, output_file)"
   ]
  },
  {
   "cell_type": "markdown",
   "id": "3dc143fe-05c6-4604-a46a-c64b6d0d9c4a",
   "metadata": {
    "jp-MarkdownHeadingCollapsed": true,
    "tags": []
   },
   "source": [
    "# Install Customs nodes"
   ]
  },
  {
   "cell_type": "code",
   "execution_count": null,
   "id": "6f0d08f0-e629-49b6-9000-03bbd4593f2c",
   "metadata": {
    "tags": []
   },
   "outputs": [],
   "source": [
    "import os\n",
    "import requests\n",
    "\n",
    "def clone_git_repos(git_list_url, destination_folder_path):\n",
    "    \"\"\"\n",
    "    Clone all git repositories listed in a text file at the given URL into a destination folder.\n",
    "\n",
    "    Parameters:\n",
    "    git_list_url (str): URL to a text file containing a list of git repository URLs.\n",
    "    destination_folder_path (str): Path to the folder where the repositories will be cloned.\n",
    "    \"\"\"\n",
    "    # Download the list of git repository URLs\n",
    "    response = requests.get(git_list_url)\n",
    "    if response.status_code != 200:\n",
    "        raise Exception(f\"Failed to download git list from {git_list_url}\")\n",
    "\n",
    "    # Save the response to a temporary file\n",
    "    temp_file_path = \"/tmp/git_list.txt\"\n",
    "    with open(temp_file_path, \"w\") as f:\n",
    "        f.write(response.text)\n",
    "\n",
    "    # Get the list of git repository URLs\n",
    "    with open(temp_file_path, \"r\") as f:\n",
    "        git_urls = f.read().splitlines()\n",
    "\n",
    "    # Delete the temporary file\n",
    "    os.remove(temp_file_path)\n",
    "\n",
    "    # Create the destination folder if it doesn't exist\n",
    "    if not os.path.exists(destination_folder_path):\n",
    "        os.makedirs(destination_folder_path)\n",
    "\n",
    "    # Clone each git repository\n",
    "    for url in git_urls:\n",
    "        repo_name = url.split(\"/\")[-1].split(\".\")[0]\n",
    "        repo_path = os.path.join(destination_folder_path, repo_name)\n",
    "        if os.path.exists(repo_path):\n",
    "            print(f\"Skipping {repo_name}, already exists\")\n",
    "            continue\n",
    "        print(f\"Cloning {repo_name}...\")\n",
    "        os.system(f\"git clone {url} {repo_path}\")\n",
    "        \n",
    "# URL to the text file containing Git repository URLs\n",
    "git_list_url = 'https://github.com/tuananhn47/test/raw/refs/heads/main/git_repos.txt'\n",
    "\n",
    "# Path to the folder where repositories will be cloned\n",
    "destination_folder_path = '/home/studio-lab-user/Test/'\n",
    "\n",
    "# Call the function\n",
    "clone_git_repos(git_list_url, destination_folder_path)"
   ]
  }
 ],
 "metadata": {
  "kernelspec": {
   "display_name": ".conda-default:Python",
   "language": "python",
   "name": "conda-env-.conda-default-py"
  },
  "language_info": {
   "codemirror_mode": {
    "name": "ipython",
    "version": 3
   },
   "file_extension": ".py",
   "mimetype": "text/x-python",
   "name": "python",
   "nbconvert_exporter": "python",
   "pygments_lexer": "ipython3",
   "version": "3.10.14"
  }
 },
 "nbformat": 4,
 "nbformat_minor": 5
}
